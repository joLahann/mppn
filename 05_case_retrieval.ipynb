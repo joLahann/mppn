{
 "cells": [
  {
   "cell_type": "markdown",
   "metadata": {},
   "source": [
    "Case Retrieval\n",
    "===\n"
   ]
  },
  {
   "cell_type": "markdown",
   "metadata": {},
   "source": [
    "This notebook contains the implementation of the case retrieval that is presented in the paper"
   ]
  },
  {
   "cell_type": "code",
   "execution_count": 57,
   "metadata": {},
   "outputs": [],
   "source": [
    "#export\n",
    "from mppn.imports import *\n",
    "from mppn.preprocessing import *\n",
    "from mppn.pipeline import *\n",
    "from mppn.baselines import *\n",
    "\n",
    "from mppn.mppn import *"
   ]
  },
  {
   "cell_type": "markdown",
   "metadata": {
    "heading_collapsed": true
   },
   "source": [
    "## Pre-training"
   ]
  },
  {
   "cell_type": "markdown",
   "metadata": {
    "hidden": true
   },
   "source": [
    "This section pretraines the MPPN neural network on the Mobis dataset"
   ]
  },
  {
   "cell_type": "code",
   "execution_count": 4,
   "metadata": {
    "hidden": true
   },
   "outputs": [],
   "source": [
    "log=import_log(EventLogs.Mobis)"
   ]
  },
  {
   "cell_type": "code",
   "execution_count": 14,
   "metadata": {
    "hidden": true
   },
   "outputs": [],
   "source": [
    "splits=split_traces(log)"
   ]
  },
  {
   "cell_type": "code",
   "execution_count": 5,
   "metadata": {
    "hidden": true
   },
   "outputs": [
    {
     "data": {
      "text/html": [
       "<div>\n",
       "<style scoped>\n",
       "    .dataframe tbody tr th:only-of-type {\n",
       "        vertical-align: middle;\n",
       "    }\n",
       "\n",
       "    .dataframe tbody tr th {\n",
       "        vertical-align: top;\n",
       "    }\n",
       "\n",
       "    .dataframe thead th {\n",
       "        text-align: right;\n",
       "    }\n",
       "</style>\n",
       "<table border=\"1\" class=\"dataframe\">\n",
       "  <thead>\n",
       "    <tr style=\"text-align: right;\">\n",
       "      <th></th>\n",
       "      <th>event_id</th>\n",
       "      <th>activity</th>\n",
       "      <th>type</th>\n",
       "      <th>user</th>\n",
       "      <th>cost</th>\n",
       "      <th>timestamp</th>\n",
       "      <th>resource</th>\n",
       "    </tr>\n",
       "    <tr>\n",
       "      <th>trace_id</th>\n",
       "      <th></th>\n",
       "      <th></th>\n",
       "      <th></th>\n",
       "      <th></th>\n",
       "      <th></th>\n",
       "      <th></th>\n",
       "      <th></th>\n",
       "    </tr>\n",
       "  </thead>\n",
       "  <tbody>\n",
       "    <tr>\n",
       "      <th>1</th>\n",
       "      <td>0</td>\n",
       "      <td>pay expenses_start</td>\n",
       "      <td>Accounting</td>\n",
       "      <td>FI12</td>\n",
       "      <td>167.52</td>\n",
       "      <td>2017-01-16 12:29:00+00:00</td>\n",
       "      <td>FI12</td>\n",
       "    </tr>\n",
       "    <tr>\n",
       "      <th>1</th>\n",
       "      <td>1</td>\n",
       "      <td>pay expenses_complete</td>\n",
       "      <td>Accounting</td>\n",
       "      <td>FI12</td>\n",
       "      <td>167.52</td>\n",
       "      <td>2017-01-16 12:40:00+00:00</td>\n",
       "      <td>FI12</td>\n",
       "    </tr>\n",
       "    <tr>\n",
       "      <th>5</th>\n",
       "      <td>0</td>\n",
       "      <td>pay expenses_start</td>\n",
       "      <td>Accounting</td>\n",
       "      <td>JH2172</td>\n",
       "      <td>262.11</td>\n",
       "      <td>2017-01-16 07:38:00+00:00</td>\n",
       "      <td>JH2172</td>\n",
       "    </tr>\n",
       "    <tr>\n",
       "      <th>5</th>\n",
       "      <td>1</td>\n",
       "      <td>pay expenses_complete</td>\n",
       "      <td>Accounting</td>\n",
       "      <td>JH2172</td>\n",
       "      <td>262.11</td>\n",
       "      <td>2017-01-16 07:48:00+00:00</td>\n",
       "      <td>JH2172</td>\n",
       "    </tr>\n",
       "    <tr>\n",
       "      <th>6</th>\n",
       "      <td>0</td>\n",
       "      <td>calculate payments_start</td>\n",
       "      <td>Accounting</td>\n",
       "      <td>WE5108</td>\n",
       "      <td>413.14</td>\n",
       "      <td>2017-01-04 05:59:00+00:00</td>\n",
       "      <td>WE5108</td>\n",
       "    </tr>\n",
       "    <tr>\n",
       "      <th>...</th>\n",
       "      <td>...</td>\n",
       "      <td>...</td>\n",
       "      <td>...</td>\n",
       "      <td>...</td>\n",
       "      <td>...</td>\n",
       "      <td>...</td>\n",
       "      <td>...</td>\n",
       "    </tr>\n",
       "    <tr>\n",
       "      <th>7268</th>\n",
       "      <td>1</td>\n",
       "      <td>file travel request_complete</td>\n",
       "      <td>Employee</td>\n",
       "      <td>RT4514</td>\n",
       "      <td>458.31</td>\n",
       "      <td>2017-12-29 18:54:00+00:00</td>\n",
       "      <td>RT4514</td>\n",
       "    </tr>\n",
       "    <tr>\n",
       "      <th>7268</th>\n",
       "      <td>2</td>\n",
       "      <td>check if travel request needs preliminary price inquiry_start</td>\n",
       "      <td>NaN</td>\n",
       "      <td>NaN</td>\n",
       "      <td>NaN</td>\n",
       "      <td>2017-12-29 18:54:00+00:00</td>\n",
       "      <td>NOT_SET</td>\n",
       "    </tr>\n",
       "    <tr>\n",
       "      <th>7268</th>\n",
       "      <td>3</td>\n",
       "      <td>check if travel request needs preliminary price inquiry_complete</td>\n",
       "      <td>NaN</td>\n",
       "      <td>NaN</td>\n",
       "      <td>NaN</td>\n",
       "      <td>2017-12-29 18:56:00+00:00</td>\n",
       "      <td>NOT_SET</td>\n",
       "    </tr>\n",
       "    <tr>\n",
       "      <th>7268</th>\n",
       "      <td>4</td>\n",
       "      <td>decide on approval requirements_start</td>\n",
       "      <td>NaN</td>\n",
       "      <td>NaN</td>\n",
       "      <td>NaN</td>\n",
       "      <td>2017-12-29 18:56:00+00:00</td>\n",
       "      <td>NOT_SET</td>\n",
       "    </tr>\n",
       "    <tr>\n",
       "      <th>7268</th>\n",
       "      <td>5</td>\n",
       "      <td>decide on approval requirements_complete</td>\n",
       "      <td>NaN</td>\n",
       "      <td>NaN</td>\n",
       "      <td>NaN</td>\n",
       "      <td>2017-12-29 18:56:00+00:00</td>\n",
       "      <td>NOT_SET</td>\n",
       "    </tr>\n",
       "  </tbody>\n",
       "</table>\n",
       "<p>166512 rows × 7 columns</p>\n",
       "</div>"
      ],
      "text/plain": [
       "          event_id  \\\n",
       "trace_id             \n",
       "1                0   \n",
       "1                1   \n",
       "5                0   \n",
       "5                1   \n",
       "6                0   \n",
       "...            ...   \n",
       "7268             1   \n",
       "7268             2   \n",
       "7268             3   \n",
       "7268             4   \n",
       "7268             5   \n",
       "\n",
       "                                                                  activity  \\\n",
       "trace_id                                                                     \n",
       "1                                                       pay expenses_start   \n",
       "1                                                    pay expenses_complete   \n",
       "5                                                       pay expenses_start   \n",
       "5                                                    pay expenses_complete   \n",
       "6                                                 calculate payments_start   \n",
       "...                                                                    ...   \n",
       "7268                                          file travel request_complete   \n",
       "7268         check if travel request needs preliminary price inquiry_start   \n",
       "7268      check if travel request needs preliminary price inquiry_complete   \n",
       "7268                                 decide on approval requirements_start   \n",
       "7268                              decide on approval requirements_complete   \n",
       "\n",
       "                type    user    cost                  timestamp resource  \n",
       "trace_id                                                                  \n",
       "1         Accounting    FI12  167.52  2017-01-16 12:29:00+00:00     FI12  \n",
       "1         Accounting    FI12  167.52  2017-01-16 12:40:00+00:00     FI12  \n",
       "5         Accounting  JH2172  262.11  2017-01-16 07:38:00+00:00   JH2172  \n",
       "5         Accounting  JH2172  262.11  2017-01-16 07:48:00+00:00   JH2172  \n",
       "6         Accounting  WE5108  413.14  2017-01-04 05:59:00+00:00   WE5108  \n",
       "...              ...     ...     ...                        ...      ...  \n",
       "7268        Employee  RT4514  458.31  2017-12-29 18:54:00+00:00   RT4514  \n",
       "7268             NaN     NaN     NaN  2017-12-29 18:54:00+00:00  NOT_SET  \n",
       "7268             NaN     NaN     NaN  2017-12-29 18:56:00+00:00  NOT_SET  \n",
       "7268             NaN     NaN     NaN  2017-12-29 18:56:00+00:00  NOT_SET  \n",
       "7268             NaN     NaN     NaN  2017-12-29 18:56:00+00:00  NOT_SET  \n",
       "\n",
       "[166512 rows x 7 columns]"
      ]
     },
     "execution_count": 5,
     "metadata": {},
     "output_type": "execute_result"
    }
   ],
   "source": [
    "log"
   ]
  },
  {
   "cell_type": "code",
   "execution_count": 75,
   "metadata": {
    "hidden": true
   },
   "outputs": [],
   "source": [
    "MinMax??"
   ]
  },
  {
   "cell_type": "code",
   "execution_count": 41,
   "metadata": {
    "hidden": true
   },
   "outputs": [],
   "source": [
    "def fill_missing(o):\n",
    "    for c in o.cont_names: o.items[c].fillna(0.0,inplace=True)"
   ]
  },
  {
   "cell_type": "code",
   "execution_count": 42,
   "metadata": {
    "hidden": true
   },
   "outputs": [],
   "source": [
    "o=PPObj(log,[Categorify,MinMax,Datetify,fill_missing],\n",
    "        cat_names=['activity','type','resource'],\n",
    "        cont_names=['cost'],date_names=['timestamp'],\n",
    "        splits=splits, y_names=['activity','resource','timestamp_Relative_elapsed_minmax']\n",
    "       )"
   ]
  },
  {
   "cell_type": "code",
   "execution_count": 51,
   "metadata": {
    "hidden": true
   },
   "outputs": [
    {
     "data": {
      "text/plain": [
       "(#5) ['activity_minmax','type_minmax','resource_minmax','cost_minmax','timestamp_Relative_elapsed_minmax']"
      ]
     },
     "execution_count": 51,
     "metadata": {},
     "output_type": "execute_result"
    }
   ],
   "source": [
    "o.cont_names"
   ]
  },
  {
   "cell_type": "raw",
   "metadata": {
    "hidden": true
   },
   "source": [
    "o.cont_names=['timestamp_Relative_elapsed']\n",
    "norm=Normalize()\n",
    "o.procs.add(norm,o)\n",
    "mean=norm.means['timestamp_Relative_elapsed']\n",
    "std=norm.stds['timestamp_Relative_elapsed']\n",
    "o.cont_names=L(['activity_minmax','resource_minmax','timestamp_Relative_elapsed_minmax'])"
   ]
  },
  {
   "cell_type": "code",
   "execution_count": 45,
   "metadata": {
    "hidden": true
   },
   "outputs": [
    {
     "data": {
      "text/html": [
       "<div>\n",
       "<style scoped>\n",
       "    .dataframe tbody tr th:only-of-type {\n",
       "        vertical-align: middle;\n",
       "    }\n",
       "\n",
       "    .dataframe tbody tr th {\n",
       "        vertical-align: top;\n",
       "    }\n",
       "\n",
       "    .dataframe thead th {\n",
       "        text-align: right;\n",
       "    }\n",
       "</style>\n",
       "<table border=\"1\" class=\"dataframe\">\n",
       "  <thead>\n",
       "    <tr style=\"text-align: right;\">\n",
       "      <th></th>\n",
       "      <th>activity</th>\n",
       "      <th>resource</th>\n",
       "      <th>timestamp_Relative_elapsed_minmax</th>\n",
       "    </tr>\n",
       "    <tr>\n",
       "      <th>trace_id</th>\n",
       "      <th></th>\n",
       "      <th></th>\n",
       "      <th></th>\n",
       "    </tr>\n",
       "  </thead>\n",
       "  <tbody>\n",
       "    <tr>\n",
       "      <th>6823</th>\n",
       "      <td>32</td>\n",
       "      <td>320</td>\n",
       "      <td>0.000000</td>\n",
       "    </tr>\n",
       "    <tr>\n",
       "      <th>6823</th>\n",
       "      <td>31</td>\n",
       "      <td>320</td>\n",
       "      <td>0.000027</td>\n",
       "    </tr>\n",
       "    <tr>\n",
       "      <th>6823</th>\n",
       "      <td>16</td>\n",
       "      <td>186</td>\n",
       "      <td>0.000027</td>\n",
       "    </tr>\n",
       "    <tr>\n",
       "      <th>6823</th>\n",
       "      <td>15</td>\n",
       "      <td>186</td>\n",
       "      <td>0.000027</td>\n",
       "    </tr>\n",
       "    <tr>\n",
       "      <th>6823</th>\n",
       "      <td>24</td>\n",
       "      <td>186</td>\n",
       "      <td>0.000027</td>\n",
       "    </tr>\n",
       "    <tr>\n",
       "      <th>...</th>\n",
       "      <td>...</td>\n",
       "      <td>...</td>\n",
       "      <td>...</td>\n",
       "    </tr>\n",
       "    <tr>\n",
       "      <th>2051</th>\n",
       "      <td>3</td>\n",
       "      <td>69</td>\n",
       "      <td>0.484132</td>\n",
       "    </tr>\n",
       "    <tr>\n",
       "      <th>2051</th>\n",
       "      <td>44</td>\n",
       "      <td>169</td>\n",
       "      <td>0.504250</td>\n",
       "    </tr>\n",
       "    <tr>\n",
       "      <th>2051</th>\n",
       "      <td>43</td>\n",
       "      <td>169</td>\n",
       "      <td>0.504327</td>\n",
       "    </tr>\n",
       "    <tr>\n",
       "      <th>2051</th>\n",
       "      <td>36</td>\n",
       "      <td>69</td>\n",
       "      <td>0.513140</td>\n",
       "    </tr>\n",
       "    <tr>\n",
       "      <th>2051</th>\n",
       "      <td>35</td>\n",
       "      <td>69</td>\n",
       "      <td>0.513166</td>\n",
       "    </tr>\n",
       "  </tbody>\n",
       "</table>\n",
       "<p>163030 rows × 3 columns</p>\n",
       "</div>"
      ],
      "text/plain": [
       "          activity  resource  timestamp_Relative_elapsed_minmax\n",
       "trace_id                                                       \n",
       "6823            32       320                           0.000000\n",
       "6823            31       320                           0.000027\n",
       "6823            16       186                           0.000027\n",
       "6823            15       186                           0.000027\n",
       "6823            24       186                           0.000027\n",
       "...            ...       ...                                ...\n",
       "2051             3        69                           0.484132\n",
       "2051            44       169                           0.504250\n",
       "2051            43       169                           0.504327\n",
       "2051            36        69                           0.513140\n",
       "2051            35        69                           0.513166\n",
       "\n",
       "[163030 rows x 3 columns]"
      ]
     },
     "execution_count": 45,
     "metadata": {},
     "output_type": "execute_result"
    }
   ],
   "source": [
    "o.ys"
   ]
  },
  {
   "cell_type": "code",
   "execution_count": 69,
   "metadata": {
    "hidden": true
   },
   "outputs": [],
   "source": [
    "dls=o.get_dls(after_batch=gaf_transform,bs=512)"
   ]
  },
  {
   "cell_type": "code",
   "execution_count": 70,
   "metadata": {
    "hidden": true
   },
   "outputs": [],
   "source": [
    "xb,yb=dls.one_batch()"
   ]
  },
  {
   "cell_type": "code",
   "execution_count": 71,
   "metadata": {
    "hidden": true
   },
   "outputs": [],
   "source": [
    "loss=partial(multi_loss_sum,o)\n",
    "metrics=get_metrics(o)"
   ]
  },
  {
   "cell_type": "code",
   "execution_count": 72,
   "metadata": {
    "hidden": true
   },
   "outputs": [
    {
     "name": "stdout",
     "output_type": "stream",
     "text": [
      "Loading Alexnet to train MPPNs CNN from scratch\n"
     ]
    }
   ],
   "source": [
    "output_attr=mppn_get_output_attributes(o)\n",
    "m=mppn_representation_learning_model(False,len(o.cont_names),output_attr)"
   ]
  },
  {
   "cell_type": "code",
   "execution_count": 73,
   "metadata": {
    "hidden": true
   },
   "outputs": [
    {
     "data": {
      "text/plain": [
       "TensorBase(10.6659, grad_fn=<AliasBackward>)"
      ]
     },
     "execution_count": 73,
     "metadata": {},
     "output_type": "execute_result"
    }
   ],
   "source": [
    "p=m(xb.cpu())\n",
    "loss(p,yb)\n"
   ]
  },
  {
   "cell_type": "code",
   "execution_count": 74,
   "metadata": {
    "hidden": true
   },
   "outputs": [
    {
     "data": {
      "text/html": [],
      "text/plain": [
       "<IPython.core.display.HTML object>"
      ]
     },
     "metadata": {},
     "output_type": "display_data"
    },
    {
     "data": {
      "text/html": [],
      "text/plain": [
       "<IPython.core.display.HTML object>"
      ]
     },
     "metadata": {},
     "output_type": "display_data"
    },
    {
     "data": {
      "text/html": [],
      "text/plain": [
       "<IPython.core.display.HTML object>"
      ]
     },
     "metadata": {},
     "output_type": "display_data"
    },
    {
     "data": {
      "text/html": [],
      "text/plain": [
       "<IPython.core.display.HTML object>"
      ]
     },
     "metadata": {},
     "output_type": "display_data"
    },
    {
     "data": {
      "text/html": [],
      "text/plain": [
       "<IPython.core.display.HTML object>"
      ]
     },
     "metadata": {},
     "output_type": "display_data"
    },
    {
     "data": {
      "text/html": [
       "<table border=\"1\" class=\"dataframe\">\n",
       "  <thead>\n",
       "    <tr style=\"text-align: left;\">\n",
       "      <th>epoch</th>\n",
       "      <th>train_loss</th>\n",
       "      <th>valid_loss</th>\n",
       "      <th>acc_activity</th>\n",
       "      <th>acc_resource</th>\n",
       "      <th>mae_days</th>\n",
       "      <th>time</th>\n",
       "    </tr>\n",
       "  </thead>\n",
       "  <tbody>\n",
       "    <tr>\n",
       "      <td>0</td>\n",
       "      <td>6.840597</td>\n",
       "      <td>5.375869</td>\n",
       "      <td>0.660812</td>\n",
       "      <td>0.242301</td>\n",
       "      <td>16.352974</td>\n",
       "      <td>00:39</td>\n",
       "    </tr>\n",
       "    <tr>\n",
       "      <td>1</td>\n",
       "      <td>3.768782</td>\n",
       "      <td>3.400568</td>\n",
       "      <td>0.915848</td>\n",
       "      <td>0.337939</td>\n",
       "      <td>11.105602</td>\n",
       "      <td>00:39</td>\n",
       "    </tr>\n",
       "    <tr>\n",
       "      <td>2</td>\n",
       "      <td>2.913498</td>\n",
       "      <td>2.760426</td>\n",
       "      <td>0.925254</td>\n",
       "      <td>0.385051</td>\n",
       "      <td>9.374220</td>\n",
       "      <td>00:39</td>\n",
       "    </tr>\n",
       "    <tr>\n",
       "      <td>3</td>\n",
       "      <td>2.611883</td>\n",
       "      <td>2.520039</td>\n",
       "      <td>0.928583</td>\n",
       "      <td>0.412352</td>\n",
       "      <td>8.759467</td>\n",
       "      <td>00:39</td>\n",
       "    </tr>\n",
       "    <tr>\n",
       "      <td>4</td>\n",
       "      <td>2.411653</td>\n",
       "      <td>2.348461</td>\n",
       "      <td>0.933078</td>\n",
       "      <td>0.421591</td>\n",
       "      <td>7.880533</td>\n",
       "      <td>00:38</td>\n",
       "    </tr>\n",
       "    <tr>\n",
       "      <td>5</td>\n",
       "      <td>2.264779</td>\n",
       "      <td>2.231918</td>\n",
       "      <td>0.940736</td>\n",
       "      <td>0.430331</td>\n",
       "      <td>8.500729</td>\n",
       "      <td>00:38</td>\n",
       "    </tr>\n",
       "    <tr>\n",
       "      <td>6</td>\n",
       "      <td>2.157140</td>\n",
       "      <td>2.170682</td>\n",
       "      <td>0.941735</td>\n",
       "      <td>0.447478</td>\n",
       "      <td>8.036813</td>\n",
       "      <td>00:38</td>\n",
       "    </tr>\n",
       "    <tr>\n",
       "      <td>7</td>\n",
       "      <td>2.052971</td>\n",
       "      <td>2.108578</td>\n",
       "      <td>0.940403</td>\n",
       "      <td>0.459131</td>\n",
       "      <td>6.154808</td>\n",
       "      <td>00:37</td>\n",
       "    </tr>\n",
       "    <tr>\n",
       "      <td>8</td>\n",
       "      <td>1.958620</td>\n",
       "      <td>2.025480</td>\n",
       "      <td>0.940153</td>\n",
       "      <td>0.467205</td>\n",
       "      <td>5.583508</td>\n",
       "      <td>00:37</td>\n",
       "    </tr>\n",
       "    <tr>\n",
       "      <td>9</td>\n",
       "      <td>1.892552</td>\n",
       "      <td>1.985206</td>\n",
       "      <td>0.942234</td>\n",
       "      <td>0.476694</td>\n",
       "      <td>7.690752</td>\n",
       "      <td>00:37</td>\n",
       "    </tr>\n",
       "    <tr>\n",
       "      <td>10</td>\n",
       "      <td>1.805080</td>\n",
       "      <td>1.979432</td>\n",
       "      <td>0.944481</td>\n",
       "      <td>0.479857</td>\n",
       "      <td>5.658186</td>\n",
       "      <td>00:37</td>\n",
       "    </tr>\n",
       "    <tr>\n",
       "      <td>11</td>\n",
       "      <td>1.729881</td>\n",
       "      <td>1.922963</td>\n",
       "      <td>0.944981</td>\n",
       "      <td>0.486516</td>\n",
       "      <td>6.021276</td>\n",
       "      <td>00:38</td>\n",
       "    </tr>\n",
       "    <tr>\n",
       "      <td>12</td>\n",
       "      <td>1.671581</td>\n",
       "      <td>1.914435</td>\n",
       "      <td>0.945480</td>\n",
       "      <td>0.498335</td>\n",
       "      <td>5.598690</td>\n",
       "      <td>00:37</td>\n",
       "    </tr>\n",
       "    <tr>\n",
       "      <td>13</td>\n",
       "      <td>1.600496</td>\n",
       "      <td>1.872949</td>\n",
       "      <td>0.946562</td>\n",
       "      <td>0.508657</td>\n",
       "      <td>5.633915</td>\n",
       "      <td>00:38</td>\n",
       "    </tr>\n",
       "    <tr>\n",
       "      <td>14</td>\n",
       "      <td>1.536306</td>\n",
       "      <td>1.858965</td>\n",
       "      <td>0.946479</td>\n",
       "      <td>0.515149</td>\n",
       "      <td>6.027934</td>\n",
       "      <td>00:38</td>\n",
       "    </tr>\n",
       "    <tr>\n",
       "      <td>15</td>\n",
       "      <td>1.482477</td>\n",
       "      <td>1.866075</td>\n",
       "      <td>0.946479</td>\n",
       "      <td>0.513817</td>\n",
       "      <td>5.496024</td>\n",
       "      <td>00:38</td>\n",
       "    </tr>\n",
       "    <tr>\n",
       "      <td>16</td>\n",
       "      <td>1.437407</td>\n",
       "      <td>1.863158</td>\n",
       "      <td>0.946895</td>\n",
       "      <td>0.520476</td>\n",
       "      <td>5.347625</td>\n",
       "      <td>00:38</td>\n",
       "    </tr>\n",
       "    <tr>\n",
       "      <td>17</td>\n",
       "      <td>1.411404</td>\n",
       "      <td>1.850364</td>\n",
       "      <td>0.946812</td>\n",
       "      <td>0.525803</td>\n",
       "      <td>5.519090</td>\n",
       "      <td>00:38</td>\n",
       "    </tr>\n",
       "    <tr>\n",
       "      <td>18</td>\n",
       "      <td>1.384075</td>\n",
       "      <td>1.854315</td>\n",
       "      <td>0.946729</td>\n",
       "      <td>0.527801</td>\n",
       "      <td>5.698239</td>\n",
       "      <td>00:38</td>\n",
       "    </tr>\n",
       "    <tr>\n",
       "      <td>19</td>\n",
       "      <td>1.378935</td>\n",
       "      <td>1.848533</td>\n",
       "      <td>0.946562</td>\n",
       "      <td>0.529549</td>\n",
       "      <td>5.627465</td>\n",
       "      <td>00:38</td>\n",
       "    </tr>\n",
       "  </tbody>\n",
       "</table>"
      ],
      "text/plain": [
       "<IPython.core.display.HTML object>"
      ]
     },
     "metadata": {},
     "output_type": "display_data"
    },
    {
     "name": "stdout",
     "output_type": "stream",
     "text": [
      "Better model found at epoch 0 with valid_loss value: 5.375869274139404.\n",
      "Better model found at epoch 1 with valid_loss value: 3.4005682468414307.\n",
      "Better model found at epoch 2 with valid_loss value: 2.760425567626953.\n",
      "Better model found at epoch 3 with valid_loss value: 2.5200388431549072.\n",
      "Better model found at epoch 4 with valid_loss value: 2.3484609127044678.\n",
      "Better model found at epoch 5 with valid_loss value: 2.2319183349609375.\n",
      "Better model found at epoch 6 with valid_loss value: 2.170681953430176.\n",
      "Better model found at epoch 7 with valid_loss value: 2.1085777282714844.\n",
      "Better model found at epoch 8 with valid_loss value: 2.025479793548584.\n",
      "Better model found at epoch 9 with valid_loss value: 1.9852063655853271.\n",
      "Better model found at epoch 10 with valid_loss value: 1.9794319868087769.\n",
      "Better model found at epoch 11 with valid_loss value: 1.9229627847671509.\n",
      "Better model found at epoch 12 with valid_loss value: 1.9144351482391357.\n",
      "Better model found at epoch 13 with valid_loss value: 1.8729486465454102.\n",
      "Better model found at epoch 14 with valid_loss value: 1.8589650392532349.\n",
      "Better model found at epoch 17 with valid_loss value: 1.8503639698028564.\n",
      "Better model found at epoch 19 with valid_loss value: 1.848533034324646.\n"
     ]
    },
    {
     "data": {
      "text/html": [],
      "text/plain": [
       "<IPython.core.display.HTML object>"
      ]
     },
     "metadata": {},
     "output_type": "display_data"
    },
    {
     "name": "stdout",
     "output_type": "stream",
     "text": [
      "Better model found at epoch 0 with valid_loss value: 0.9452365040779114.\n"
     ]
    },
    {
     "data": {
      "text/plain": [
       "0.9452365040779114"
      ]
     },
     "execution_count": 74,
     "metadata": {},
     "output_type": "execute_result"
    },
    {
     "data": {
      "image/png": "[encoded data removed]",
      "text/plain": [
       "<Figure size 432x288 with 1 Axes>"
      ]
     },
     "metadata": {
      "needs_background": "light"
     },
     "output_type": "display_data"
    },
    {
     "data": {
      "image/png": "[encoded data removed]",
      "text/plain": [
       "<Figure size 432x288 with 1 Axes>"
      ]
     },
     "metadata": {
      "needs_background": "light"
     },
     "output_type": "display_data"
    },
    {
     "data": {
      "image/png": "[encoded data removed]",
      "text/plain": [
       "<Figure size 432x288 with 1 Axes>"
      ]
     },
     "metadata": {
      "needs_background": "light"
     },
     "output_type": "display_data"
    },
    {
     "data": {
      "image/png": "[encoded data removed]",
      "text/plain": [
       "<Figure size 432x288 with 1 Axes>"
      ]
     },
     "metadata": {
      "needs_background": "light"
     },
     "output_type": "display_data"
    },
    {
     "data": {
      "image/png": "[encoded data removed]",
      "text/plain": [
       "<Figure size 432x288 with 1 Axes>"
      ]
     },
     "metadata": {
      "needs_background": "light"
     },
     "output_type": "display_data"
    }
   ],
   "source": [
    "train_validate(dls,m,loss=loss,metrics=metrics,epoch=20,model_name='Case_retrieval_mppn')"
   ]
  },
  {
   "cell_type": "code",
   "execution_count": 127,
   "metadata": {
    "hidden": true
   },
   "outputs": [],
   "source": [
    "subsequences_fast??"
   ]
  },
  {
   "cell_type": "code",
   "execution_count": 129,
   "metadata": {
    "hidden": true
   },
   "outputs": [],
   "source": [
    "def trace_sequence(df,event_ids=None):\n",
    "    l=[]\n",
    "    idx=[]\n",
    "    for i,c in df.groupby(level=0):\n",
    "        a=c.to_numpy()\n",
    "        npad = ((64-len(a), 0), (0, 0))\n",
    "        a=np.pad(a,pad_width=npad).T\n",
    "        idx.append(i)\n",
    "        l.append(a)    \n",
    "    return np.stack(l),idx"
   ]
  },
  {
   "cell_type": "code",
   "execution_count": 130,
   "metadata": {
    "hidden": true
   },
   "outputs": [],
   "source": [
    "ws,idx=trace_sequence(o.xs)"
   ]
  },
  {
   "cell_type": "code",
   "execution_count": 154,
   "metadata": {
    "hidden": true
   },
   "outputs": [],
   "source": [
    "from pyts.image import GramianAngularField\n",
    "from PIL import Image"
   ]
  },
  {
   "cell_type": "code",
   "execution_count": 155,
   "metadata": {
    "hidden": true
   },
   "outputs": [],
   "source": [
    "def _gaf_loop(e,transformer):\n",
    "        inp,y=e\n",
    "        inp[inp>1]=1\n",
    "        inp[inp<0]=0\n",
    "        inp=inp*2-1\n",
    "        x=torch.stack(\n",
    "            tuple(_gaf_attr(inp[:,i],transformer) for i in range(inp.shape[1]))\n",
    "        ).transpose(0,1)\n",
    "        x=x[:,:,None].expand(-1,-1,3,-1,-1)\n",
    "        return x,y\n",
    "\n",
    "def _gaf_attr(x,transformer):\n",
    "    try:\n",
    "\n",
    "        x = transformer.transform(x)\n",
    "    except ValueError as e:\n",
    "        print(x)\n",
    "        raise e\n",
    "    x=tensor(x)\n",
    "    x = x * 255\n",
    "    return x\n",
    "\n",
    "\n",
    "\n",
    "class gaf_transform(ItemTransform):\n",
    "    ''' GAF transormation: converts a bash into a gramian angular field and reshapes it to RGB'''\n",
    "    def __init__(self,gs=64):\n",
    "        self.transformer=GramianAngularField(image_size=gs,sample_range=None, method=\"s\", overlapping=True)\n",
    "\n",
    "    def encodes(self,e): return _gaf_loop(e,self.transformer)"
   ]
  },
  {
   "cell_type": "code",
   "execution_count": 156,
   "metadata": {
    "hidden": true
   },
   "outputs": [],
   "source": [
    "gt=gaf_transform()"
   ]
  },
  {
   "cell_type": "code",
   "execution_count": 157,
   "metadata": {
    "hidden": true
   },
   "outputs": [],
   "source": [
    "x_all,_=gt((ws,None))"
   ]
  },
  {
   "cell_type": "code",
   "execution_count": 162,
   "metadata": {
    "hidden": true
   },
   "outputs": [],
   "source": [
    "del m.heads"
   ]
  },
  {
   "cell_type": "code",
   "execution_count": 171,
   "metadata": {
    "hidden": true
   },
   "outputs": [
    {
     "data": {
      "text/plain": [
       "BaseMPPN(\n",
       "  (CNN): Sequential(\n",
       "    (0): Conv2d(3, 32, kernel_size=(4, 4), stride=(4, 4), padding=(2, 2))\n",
       "    (1): ReLU(inplace=True)\n",
       "    (2): Conv2d(32, 64, kernel_size=(4, 4), stride=(1, 1), padding=(2, 2))\n",
       "    (3): ReLU(inplace=True)\n",
       "    (4): MaxPool2d(kernel_size=4, stride=2, padding=0, dilation=1, ceil_mode=False)\n",
       "    (5): Conv2d(64, 64, kernel_size=(4, 4), stride=(1, 1), padding=(2, 2))\n",
       "    (6): ReLU(inplace=True)\n",
       "    (7): MaxPool2d(kernel_size=3, stride=2, padding=0, dilation=1, ceil_mode=False)\n",
       "    (8): Conv2d(64, 64, kernel_size=(3, 3), stride=(1, 1), padding=(1, 1))\n",
       "    (9): ReLU(inplace=True)\n",
       "    (10): MaxPool2d(kernel_size=3, stride=2, padding=0, dilation=1, ceil_mode=False)\n",
       "  )\n",
       "  (MLP): Sequential(\n",
       "    (0): Dropout(p=0.1, inplace=False)\n",
       "    (1): Linear(in_features=320, out_features=160, bias=True)\n",
       "    (2): ReLU(inplace=True)\n",
       "    (3): Dropout(p=0.1, inplace=False)\n",
       "    (4): Linear(in_features=160, out_features=128, bias=True)\n",
       "  )\n",
       ")"
      ]
     },
     "execution_count": 171,
     "metadata": {},
     "output_type": "execute_result"
    }
   ],
   "source": [
    "m_fv = BaseMPPN(5, 64, 128)\n",
    "m_fv.CNN = m.CNN\n",
    "m_fv.MLP = m.MLP\n",
    "m_fv"
   ]
  },
  {
   "cell_type": "code",
   "execution_count": 202,
   "metadata": {
    "hidden": true
   },
   "outputs": [],
   "source": [
    "res=m_fv.cpu()(x_all).detach().numpy()"
   ]
  },
  {
   "cell_type": "code",
   "execution_count": 235,
   "metadata": {
    "hidden": true
   },
   "outputs": [],
   "source": [
    "fvs = [fv[0] for fv in res]"
   ]
  },
  {
   "cell_type": "code",
   "execution_count": 243,
   "metadata": {
    "hidden": true
   },
   "outputs": [],
   "source": [
    "pd_cases_fv = pd.DataFrame({})\n",
    "pd_cases_fv[\"case_id\"] = idx\n",
    "pd_cases_fv[\"fv\"] = fvs"
   ]
  },
  {
   "cell_type": "code",
   "execution_count": null,
   "metadata": {
    "hidden": true
   },
   "outputs": [],
   "source": []
  },
  {
   "cell_type": "markdown",
   "metadata": {
    "heading_collapsed": true
   },
   "source": [
    "## Visualization"
   ]
  },
  {
   "cell_type": "markdown",
   "metadata": {
    "hidden": true
   },
   "source": [
    "For the visualization of the representation space we use reduce it with sklearn's PCA and than vizualize it as a scatter plot."
   ]
  },
  {
   "cell_type": "code",
   "execution_count": 245,
   "metadata": {
    "hidden": true
   },
   "outputs": [],
   "source": [
    "from sklearn.decomposition import PCA"
   ]
  },
  {
   "cell_type": "code",
   "execution_count": 246,
   "metadata": {
    "hidden": true
   },
   "outputs": [],
   "source": [
    "fv_matrix = np.array(pd_cases_fv[\"fv\"].tolist())"
   ]
  },
  {
   "cell_type": "code",
   "execution_count": 247,
   "metadata": {
    "hidden": true
   },
   "outputs": [],
   "source": [
    "pca_model = PCA(n_components=2, random_state=1111)\n",
    "pca_rep = pca_model.fit_transform(fv_matrix)"
   ]
  },
  {
   "cell_type": "code",
   "execution_count": 248,
   "metadata": {
    "hidden": true
   },
   "outputs": [],
   "source": [
    "pca_df = pd.DataFrame(data={\"x\": pca_rep[:, 0],\n",
    "                           \"y\": pca_rep[:, 1],\n",
    "                           \"case_id\": pd_cases_fv[\"case_id\"].tolist()})"
   ]
  },
  {
   "cell_type": "code",
   "execution_count": 249,
   "metadata": {
    "hidden": true
   },
   "outputs": [
    {
     "data": {
      "image/png": "[encoded data removed]",
      "text/plain": [
       "<Figure size 1000x1000 with 1 Axes>"
      ]
     },
     "metadata": {
      "needs_background": "light"
     },
     "output_type": "display_data"
    }
   ],
   "source": [
    "plt.figure(figsize=(10, 10), dpi=100)\n",
    "scatterplot = plt.scatter(pca_df[\"x\"], pca_df[\"y\"], s=1)"
   ]
  },
  {
   "cell_type": "markdown",
   "metadata": {
    "heading_collapsed": true
   },
   "source": [
    "## Case Retrieval"
   ]
  },
  {
   "cell_type": "markdown",
   "metadata": {
    "hidden": true
   },
   "source": [
    "The case retrieval is implemented by calculating the pairwise similarity between the cases first. As metric the euclidean distance is used."
   ]
  },
  {
   "cell_type": "code",
   "execution_count": 250,
   "metadata": {
    "hidden": true
   },
   "outputs": [],
   "source": [
    "from scipy import spatial\n",
    "\n",
    "def compute_similarities(pd_cases_fv):\n",
    "    pd_cases_fv[\"most_similar_cases\"] = pd.NA\n",
    "    for idx, case in pd_cases_fv.iterrows():\n",
    "        pd_cases_fv.at[idx, \"most_similar_cases\"] = compute_trace_retrieval_order(case[\"fv\"], pd_cases_fv[\"fv\"])\n",
    "    \n",
    "    return pd_cases_fv\n",
    "\n",
    "def compute_trace_retrieval_order(case_fv, all_fv):\n",
    "    \n",
    "    cases_fv = np.array(case_fv.reshape(1, -1))\n",
    "    all_fv = np.array(all_fv.tolist()).reshape(len(all_fv), case_fv.shape[-1])\n",
    "    \n",
    "    fv_distances = spatial.distance.cdist(cases_fv, all_fv, metric=\"cosine\").reshape(-1)\n",
    "    \n",
    "    return np.argsort(fv_distances).tolist()\n",
    "\n",
    "def retrieve_most_similar_cases(pd_cases_fv, case_id, top_n=5):\n",
    "    \n",
    "    query_case = pd_cases_fv[pd_cases_fv[\"case_id\"] == case_id]\n",
    "    \n",
    "    most_similar_cases_idx = query_case[\"most_similar_cases\"].tolist()[0][1:top_n+1]\n",
    "    \n",
    "    return most_similar_cases_idx"
   ]
  },
  {
   "cell_type": "code",
   "execution_count": 251,
   "metadata": {
    "hidden": true
   },
   "outputs": [],
   "source": [
    "pd_cases_fv = compute_similarities(pd_cases_fv)"
   ]
  },
  {
   "cell_type": "code",
   "execution_count": 253,
   "metadata": {
    "hidden": true
   },
   "outputs": [
    {
     "data": {
      "text/plain": [
       "[4696, 4710, 5501, 5903, 5551]"
      ]
     },
     "execution_count": 253,
     "metadata": {},
     "output_type": "execute_result"
    }
   ],
   "source": [
    "retrieve_most_similar_cases(pd_cases_fv, 5523, top_n=5)"
   ]
  },
  {
   "cell_type": "code",
   "execution_count": null,
   "metadata": {
    "hidden": true
   },
   "outputs": [],
   "source": []
  }
 ],
 "metadata": {
  "kernelspec": {
   "display_name": "mppn",
   "language": "python",
   "name": "mppn"
  },
  "language_info": {
   "codemirror_mode": {
    "name": "ipython",
    "version": 3
   },
   "file_extension": ".py",
   "mimetype": "text/x-python",
   "name": "python",
   "nbconvert_exporter": "python",
   "pygments_lexer": "ipython3",
   "version": "3.7.10"
  }
 },
 "nbformat": 4,
 "nbformat_minor": 2
}
