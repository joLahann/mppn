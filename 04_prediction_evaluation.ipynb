{
 "cells": [
  {
   "cell_type": "markdown",
   "metadata": {
    "toc": true
   },
   "source": [
    "<h1>Table of Contents<span class=\"tocSkip\"></span></h1>\n",
    "<div class=\"toc\"><ul class=\"toc-item\"><li><span><a href=\"#Runner\" data-toc-modified-id=\"Runner-1\"><span class=\"toc-item-num\">1&nbsp;&nbsp;</span>Runner</a></span></li><li><span><a href=\"#Shell-script:\" data-toc-modified-id=\"Shell-script:-2\"><span class=\"toc-item-num\">2&nbsp;&nbsp;</span>Shell script:</a></span></li></ul></div>"
   ]
  },
  {
   "cell_type": "code",
   "execution_count": 1,
   "metadata": {},
   "outputs": [],
   "source": [
    "# default_exp prediction_evaluation"
   ]
  },
  {
   "cell_type": "markdown",
   "metadata": {},
   "source": [
    "Process Prediction Evaluation\n",
    "===\n",
    "\n"
   ]
  },
  {
   "cell_type": "code",
   "execution_count": 2,
   "metadata": {},
   "outputs": [],
   "source": [
    "#hide\n",
    "\n",
    "%load_ext autoreload\n",
    "%autoreload 2\n",
    "%load_ext memory_profiler\n",
    "%load_ext line_profiler\n",
    "%matplotlib inline"
   ]
  },
  {
   "cell_type": "code",
   "execution_count": 3,
   "metadata": {},
   "outputs": [],
   "source": [
    "#export\n",
    "from mppn.imports import *\n",
    "from mppn.preprocessing import *\n",
    "from mppn.pipeline import *\n",
    "from mppn.baselines import *\n",
    "from mppn.mppn import *"
   ]
  },
  {
   "cell_type": "code",
   "execution_count": 4,
   "metadata": {},
   "outputs": [],
   "source": [
    "_RUN_TRAINING=False"
   ]
  },
  {
   "cell_type": "markdown",
   "metadata": {
    "heading_collapsed": true
   },
   "source": [
    "## Runner"
   ]
  },
  {
   "cell_type": "markdown",
   "metadata": {
    "hidden": true
   },
   "source": [
    "This section runs the process prediction experiment"
   ]
  },
  {
   "cell_type": "code",
   "execution_count": 5,
   "metadata": {
    "hidden": true
   },
   "outputs": [],
   "source": [
    "#export\n",
    "logs=[\n",
    "    EventLogs.Helpdesk,\n",
    "    EventLogs.Mobis,\n",
    "    EventLogs.BPIC_12,\n",
    "    EventLogs.BPIC_12_A,\n",
    "    EventLogs.BPIC_12_O,\n",
    "    EventLogs.BPIC_12_Wcomplete,\n",
    "    EventLogs.BPIC_13_CP,\n",
    "    EventLogs.BPIC_17_OFFER,\n",
    "    EventLogs.BPIC_20_RFP\n",
    "\n",
    "]\n",
    "\n",
    "ppms=[\n",
    "    PPM_Evermann,\n",
    "    PPM_Tax_Spezialized,\n",
    "    PPM_Tax_Shared,\n",
    "    PPM_Tax_Mixed,\n",
    "    PPM_Camargo_Spezialized,\n",
    "    PPM_Camargo_concat,\n",
    "    PPM_Camargo_fullconcat,\n",
    "    PPM_MiDA,\n",
    "    PPM_MPPN\n",
    "]"
   ]
  },
  {
   "cell_type": "code",
   "execution_count": 7,
   "metadata": {
    "hidden": true
   },
   "outputs": [
    {
     "name": "stdout",
     "output_type": "stream",
     "text": [
      "CPU times: user 1e+03 ns, sys: 1 µs, total: 2 µs\n",
      "Wall time: 3.81 µs\n"
     ]
    }
   ],
   "source": [
    "%%time\n",
    "if _RUN_TRAINING:\n",
    "    res=runner(logs,ppms,attr_dict=attr_dict,sample=False,epoch=20,runs=5,store=True,bs=512,print_output=True)"
   ]
  },
  {
   "cell_type": "markdown",
   "metadata": {
    "heading_collapsed": true
   },
   "source": [
    "## Shell script:"
   ]
  },
  {
   "cell_type": "markdown",
   "metadata": {
    "hidden": true
   },
   "source": [
    "This section creates a python script based of the `runner` method with the fire library"
   ]
  },
  {
   "cell_type": "code",
   "execution_count": 6,
   "metadata": {
    "hidden": true
   },
   "outputs": [],
   "source": [
    "#export\n",
    "import fire\n",
    "\n",
    "def isnotebook():\n",
    "    try:\n",
    "        shell = get_ipython().__class__.__name__\n",
    "        if shell == 'ZMQInteractiveShell':\n",
    "            return True   # Jupyter notebook or qtconsole\n",
    "        elif shell == 'TerminalInteractiveShell':\n",
    "            return False  # Terminal running IPython\n",
    "        else:\n",
    "            return False  # Other type (?)\n",
    "    except NameError:\n",
    "        return False\n",
    "\n",
    "\n",
    "\n",
    "\n",
    "\n",
    "if not isnotebook():\n",
    "    from tqdm import tqdm as tqdm_console\n",
    "\n",
    "    def command_line(log_idx=range(len(logs)),ppm_idx=range(len(ppms)),sample=False,store=True, runs=1,\n",
    "                     bs=64,print_output=False,patience=3, min_delta=0.005, epoch=20,\n",
    "                     validation_seed=None,test_seed=42):\n",
    "        log_sel=L(logs)[log_idx]\n",
    "        ppm_sel==L(ppms)[ppm_idx]\n",
    "        runner(log_sel,ppm_sel,attr_dict=attr_dict, sample=sample,store=store,epoch=epoch,tqdm=tqdm_console,\n",
    "               print_output=print_output,bs=bs,patience=patience,min_delta=min_delta,runs=runs,\n",
    "               validation_seed=validation_seed,test_seed=test_seed)\n",
    "\n",
    "    if __name__ == '__main__':\n",
    "        fire.Fire(command_line)"
   ]
  }
 ],
 "metadata": {
  "kernelspec": {
   "display_name": "mppn",
   "language": "python",
   "name": "mppn"
  },
  "language_info": {
   "codemirror_mode": {
    "name": "ipython",
    "version": 3
   },
   "file_extension": ".py",
   "mimetype": "text/x-python",
   "name": "python",
   "nbconvert_exporter": "python",
   "pygments_lexer": "ipython3",
   "version": "3.7.10"
  },
  "toc": {
   "base_numbering": 1,
   "nav_menu": {},
   "number_sections": true,
   "sideBar": true,
   "skip_h1_title": true,
   "title_cell": "Table of Contents",
   "title_sidebar": "Contents",
   "toc_cell": true,
   "toc_position": {},
   "toc_section_display": true,
   "toc_window_display": true
  }
 },
 "nbformat": 4,
 "nbformat_minor": 4
}
