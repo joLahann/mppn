{
 "cells": [
  {
   "cell_type": "markdown",
   "metadata": {
    "toc": true
   },
   "source": [
    "<h1>Table of Contents<span class=\"tocSkip\"></span></h1>\n",
    "<div class=\"toc\"><ul class=\"toc-item\"><li><span><a href=\"#Sample-Training\" data-toc-modified-id=\"Sample-Training-1\"><span class=\"toc-item-num\">1&nbsp;&nbsp;</span>Sample Training</a></span></li><li><span><a href=\"#Process-Prediction-Model\" data-toc-modified-id=\"Process-Prediction-Model-2\"><span class=\"toc-item-num\">2&nbsp;&nbsp;</span>Process Prediction Model</a></span></li><li><span><a href=\"#Pipeline-Runner\" data-toc-modified-id=\"Pipeline-Runner-3\"><span class=\"toc-item-num\">3&nbsp;&nbsp;</span>Pipeline Runner</a></span></li></ul></div>"
   ]
  },
  {
   "cell_type": "code",
   "execution_count": 1,
   "metadata": {},
   "outputs": [],
   "source": [
    "# default_exp pipeline"
   ]
  },
  {
   "cell_type": "markdown",
   "metadata": {},
   "source": [
    "Pipeline\n",
    "===\n",
    "\n"
   ]
  },
  {
   "cell_type": "code",
   "execution_count": 2,
   "metadata": {},
   "outputs": [],
   "source": [
    "#hide\n",
    "\n",
    "%load_ext autoreload\n",
    "%autoreload 2\n",
    "%load_ext memory_profiler\n",
    "\n",
    "%matplotlib inline"
   ]
  },
  {
   "cell_type": "code",
   "execution_count": 3,
   "metadata": {},
   "outputs": [],
   "source": [
    "#export\n",
    "from mppn.imports import *\n",
    "from mppn.preprocessing import *\n",
    "import pickle"
   ]
  },
  {
   "cell_type": "markdown",
   "metadata": {},
   "source": [
    "## Sample Training"
   ]
  },
  {
   "cell_type": "markdown",
   "metadata": {},
   "source": [
    "This section introduces a sample training, whith an simple recurrent pytorch model on the task next activity prediction."
   ]
  },
  {
   "cell_type": "code",
   "execution_count": 12,
   "metadata": {},
   "outputs": [],
   "source": [
    "log=import_log(EventLogs.Helpdesk)"
   ]
  },
  {
   "cell_type": "code",
   "execution_count": 13,
   "metadata": {},
   "outputs": [
    {
     "name": "stdout",
     "output_type": "stream",
     "text": [
      "#traces: 4580 #events: 21348\n"
     ]
    },
    {
     "data": {
      "text/html": [
       "<table border=\"1\" class=\"dataframe\">\n",
       "  <thead>\n",
       "    <tr style=\"text-align: right;\">\n",
       "      <th></th>\n",
       "      <th>resource</th>\n",
       "    </tr>\n",
       "    <tr>\n",
       "      <th>trace_id</th>\n",
       "      <th></th>\n",
       "    </tr>\n",
       "  </thead>\n",
       "  <tbody>\n",
       "    <tr>\n",
       "      <th>Case3899</th>\n",
       "      <td>22</td>\n",
       "    </tr>\n",
       "    <tr>\n",
       "      <th>Case3899</th>\n",
       "      <td>12</td>\n",
       "    </tr>\n",
       "    <tr>\n",
       "      <th>Case3899</th>\n",
       "      <td>17</td>\n",
       "    </tr>\n",
       "  </tbody>\n",
       "</table>"
      ],
      "text/plain": [
       "<IPython.core.display.HTML object>"
      ]
     },
     "metadata": {},
     "output_type": "display_data"
    }
   ],
   "source": [
    "col='resource'\n",
    "o=PPObj(log,procs=Categorify(),cat_names=col,y_names=col,splits=split_traces(log))\n",
    "o.show()"
   ]
  },
  {
   "cell_type": "code",
   "execution_count": 14,
   "metadata": {},
   "outputs": [
    {
     "data": {
      "text/plain": [
       "(torch.Size([64, 64]), torch.Size([64]))"
      ]
     },
     "execution_count": 14,
     "metadata": {},
     "output_type": "execute_result"
    }
   ],
   "source": [
    "dls=o.get_dls()\n",
    "xb,yb=dls.one_batch()\n",
    "xb.shape,yb.shape"
   ]
  },
  {
   "cell_type": "code",
   "execution_count": 15,
   "metadata": {},
   "outputs": [
    {
     "data": {
      "text/plain": [
       "tensor([ 0,  0,  0,  0,  0,  0,  0,  0,  0,  0,  0,  0,  0,  0,  0,  0,  0,  0,\n",
       "         0,  0,  0,  0,  0,  0,  0,  0,  0,  0,  0,  0,  0,  0,  0,  0,  0,  0,\n",
       "         0,  0,  0,  0,  0,  0,  0,  0,  0,  0,  0,  0,  0,  0,  0,  0,  0,  0,\n",
       "         0,  0,  0,  0,  0,  0,  0, 20, 20, 20])"
      ]
     },
     "execution_count": 15,
     "metadata": {},
     "output_type": "execute_result"
    }
   ],
   "source": [
    "xb[0]"
   ]
  },
  {
   "cell_type": "code",
   "execution_count": 16,
   "metadata": {},
   "outputs": [
    {
     "data": {
      "text/plain": [
       "23"
      ]
     },
     "execution_count": 16,
     "metadata": {},
     "output_type": "execute_result"
    }
   ],
   "source": [
    "len(o.procs.categorify[col])"
   ]
  },
  {
   "cell_type": "code",
   "execution_count": 17,
   "metadata": {},
   "outputs": [],
   "source": [
    "#export\n",
    "class RNNwEmbedding(torch.nn.Module) :\n",
    "    def __init__(self,o) :\n",
    "        super().__init__()\n",
    "        vocab_size=len(o.procs.categorify[o.y_names[0]])\n",
    "        emb_size = int(sqrt(vocab_size))+1\n",
    "        hidden_six = 20\n",
    "        self.emb = nn.Embedding(vocab_size,emb_size)\n",
    "\n",
    "        self.rnn = nn.RNN(emb_size, hidden_six, batch_first=True, num_layers=2)\n",
    "\n",
    "        self.linear = nn.Linear(hidden_six, vocab_size)\n",
    "\n",
    "    def forward(self, x):\n",
    "        x = self.emb(x)\n",
    "        x,_ = self.rnn(x)\n",
    "        x = x[:,-1]\n",
    "        x = self.linear(x)\n",
    "        x = F.softmax(x,dim=1)\n",
    "        return x"
   ]
  },
  {
   "cell_type": "code",
   "execution_count": 18,
   "metadata": {},
   "outputs": [],
   "source": [
    "m=RNNwEmbedding(o)\n"
   ]
  },
  {
   "cell_type": "code",
   "execution_count": 19,
   "metadata": {},
   "outputs": [],
   "source": [
    "p=m(xb)"
   ]
  },
  {
   "cell_type": "code",
   "execution_count": 20,
   "metadata": {},
   "outputs": [],
   "source": [
    "#export\n",
    "class HideOutput:\n",
    "    'A utility function that hides all outputs in a context'\n",
    "    def __enter__(self):\n",
    "        self._original_stdout = sys.stdout\n",
    "        sys.stdout = open(os.devnull, 'w')\n",
    "\n",
    "    def __exit__(self, exc_type, exc_val, exc_tb):\n",
    "        sys.stdout.close()\n",
    "        sys.stdout = self._original_stdout"
   ]
  },
  {
   "cell_type": "code",
   "execution_count": 21,
   "metadata": {},
   "outputs": [],
   "source": [
    "#export\n",
    "def training_loop(learn,epoch,print_output,lr_find):\n",
    "    '''\n",
    "    Basic training loop that uses learning rate finder and one cycle training. \n",
    "    See fastai docs for more information\n",
    "    '''\n",
    "    if lr_find:\n",
    "        lr=np.median([learn.lr_find(show_plot=print_output)[0] for i in range(5)])\n",
    "        learn.fit_one_cycle(epoch,float(lr))\n",
    "    else: learn.fit(epoch,0.01)"
   ]
  },
  {
   "cell_type": "code",
   "execution_count": 22,
   "metadata": {},
   "outputs": [],
   "source": [
    "#export\n",
    "def train_validate(dls,m,metrics=accuracy,loss=F.cross_entropy,epoch=20,print_output=True,model_dir=\".\",lr_find=True,\n",
    "                   output_index=1,patience=3,min_delta=0.005,show_plot=True,store_path='tmp',model_name='.model'):\n",
    "    '''\n",
    "    Trains a model on the training set with early stopping based on the validation loss.\n",
    "    Afterwards, applies it to the test set.\n",
    "    '''\n",
    "    cbs = [CudaCallback,\n",
    "      EarlyStoppingCallback(monitor='valid_loss',min_delta=min_delta, patience=patience),\n",
    "      SaveModelCallback(fname=model_name)\n",
    "      ]\n",
    "    learn=Learner(dls, m, path=store_path, model_dir=model_dir, loss_func=loss ,metrics=metrics,cbs=cbs)\n",
    "\n",
    "    if print_output:\n",
    "        training_loop(learn,epoch,show_plot,lr_find=lr_find)\n",
    "        return learn.validate(dl=dls[2])[output_index]\n",
    "    else:\n",
    "        with HideOutput(),learn.no_bar(),learn.no_logging():\n",
    "            training_loop(learn,epoch,show_plot,lr_find=lr_find)\n",
    "            return learn.validate(dl=dls[2])[output_index]"
   ]
  },
  {
   "cell_type": "code",
   "execution_count": 23,
   "metadata": {},
   "outputs": [
    {
     "data": {
      "text/html": [],
      "text/plain": [
       "<IPython.core.display.HTML object>"
      ]
     },
     "metadata": {},
     "output_type": "display_data"
    },
    {
     "data": {
      "text/html": [
       "<table border=\"1\" class=\"dataframe\">\n",
       "  <thead>\n",
       "    <tr style=\"text-align: left;\">\n",
       "      <th>epoch</th>\n",
       "      <th>train_loss</th>\n",
       "      <th>valid_loss</th>\n",
       "      <th>accuracy</th>\n",
       "      <th>time</th>\n",
       "    </tr>\n",
       "  </thead>\n",
       "  <tbody>\n",
       "    <tr>\n",
       "      <td>0</td>\n",
       "      <td>2.052564</td>\n",
       "      <td>2.017603</td>\n",
       "      <td>0.799110</td>\n",
       "      <td>00:01</td>\n",
       "    </tr>\n",
       "    <tr>\n",
       "      <td>1</td>\n",
       "      <td>2.030484</td>\n",
       "      <td>2.017359</td>\n",
       "      <td>0.799110</td>\n",
       "      <td>00:01</td>\n",
       "    </tr>\n",
       "    <tr>\n",
       "      <td>2</td>\n",
       "      <td>2.030542</td>\n",
       "      <td>2.017454</td>\n",
       "      <td>0.799110</td>\n",
       "      <td>00:01</td>\n",
       "    </tr>\n",
       "    <tr>\n",
       "      <td>3</td>\n",
       "      <td>2.025742</td>\n",
       "      <td>2.017385</td>\n",
       "      <td>0.799110</td>\n",
       "      <td>00:01</td>\n",
       "    </tr>\n",
       "  </tbody>\n",
       "</table>"
      ],
      "text/plain": [
       "<IPython.core.display.HTML object>"
      ]
     },
     "metadata": {},
     "output_type": "display_data"
    },
    {
     "name": "stdout",
     "output_type": "stream",
     "text": [
      "Better model found at epoch 0 with valid_loss value: 2.0176031589508057.\n",
      "Better model found at epoch 1 with valid_loss value: 2.0173585414886475.\n",
      "No improvement since epoch 0: early stopping\n"
     ]
    },
    {
     "data": {
      "text/html": [],
      "text/plain": [
       "<IPython.core.display.HTML object>"
      ]
     },
     "metadata": {},
     "output_type": "display_data"
    },
    {
     "name": "stdout",
     "output_type": "stream",
     "text": [
      "Better model found at epoch 0 with valid_loss value: 0.786309540271759.\n"
     ]
    },
    {
     "data": {
      "text/plain": [
       "0.786309540271759"
      ]
     },
     "execution_count": 23,
     "metadata": {},
     "output_type": "execute_result"
    },
    {
     "data": {
      "image/png": "[encoded data removed]",
      "text/plain": [
       "<Figure size 432x288 with 1 Axes>"
      ]
     },
     "metadata": {
      "needs_background": "light"
     },
     "output_type": "display_data"
    }
   ],
   "source": [
    "cols,outcome='activity',False\n",
    "o=PPObj(log,procs=Categorify(),cat_names=cols,y_names=cols,splits=split_traces(log))\n",
    "dls=o.get_dls(outcome=outcome,windows=partial(subsequences_fast,min_ws=0))\n",
    "m=RNNwEmbedding(o)\n",
    "train_validate(dls,m,epoch=5)"
   ]
  },
  {
   "cell_type": "markdown",
   "metadata": {
    "heading_collapsed": true
   },
   "source": [
    "## Process Prediction Model"
   ]
  },
  {
   "cell_type": "markdown",
   "metadata": {
    "hidden": true
   },
   "source": [
    "The `PPModel` class creates multiple prediction models for next-step prediction, next-resource prediction, remaining time prediction, etc. based on a pytorch model architecture."
   ]
  },
  {
   "cell_type": "code",
   "execution_count": 24,
   "metadata": {
    "hidden": true
   },
   "outputs": [],
   "source": [
    "#export\n",
    "\n",
    "# Todo: Add Logging\n",
    "class PPModel():\n",
    "\n",
    "    def __init__(self,log,ds_name,splits,store=None,bs=64,print_output=False,patience=3,min_delta=0.005,\n",
    "                 attr_dict=None,windows=partial(subsequences_fast,min_ws=0),epoch=20,sample=False,\n",
    "                 train_validate=train_validate):\n",
    "        store_attr('log,ds_name,splits,attr_dict,windows,epoch,bs,print_output,min_delta,patience,store')\n",
    "        self.lr_find=True\n",
    "        if sample:\n",
    "            self.lr_find=False\n",
    "            traces=self.splits[0]\n",
    "            self.splits=traces[:60],traces[60:80],traces[80:100]\n",
    "            self.bs=64\n",
    "            self.epoch=1\n",
    "\n",
    "    def evaluate(self):\n",
    "        if not self.print_output:\n",
    "            with HideOutput(): return self.__evaluate()\n",
    "        else: return self.__evaluate()\n",
    "    def __evaluate(self):\n",
    "        print(self.ds_name,self.get_name())\n",
    "        self.setup()\n",
    "\n",
    "        print('next_step_prediction')\n",
    "        nsp=self.next_step_prediction()\n",
    "\n",
    "        print('next_resource_prediction')\n",
    "        nrp=self.next_resource_prediction()\n",
    "\n",
    "        print('last_resource_prediction')\n",
    "        lrp=self.last_resource_prediction()\n",
    "\n",
    "        print('outcome_prediction')\n",
    "        op=self.outcome_prediction()\n",
    "\n",
    "        print('duration_to_next_event_prediction')\n",
    "        dtnep=self.duration_to_next_event_prediction()\n",
    "\n",
    "        print('duration_to_end_prediction')\n",
    "        dtep=self.duration_to_end_prediction()\n",
    "\n",
    "        print('activity_suffix_prediction')\n",
    "        asp=self.activity_suffix_prediction()\n",
    "\n",
    "        print('resource_suffix_prediction')\n",
    "        rsp=self.resource_suffix_prediction()\n",
    "\n",
    "        return nsp, nrp, lrp, op, dtnep, dtep, asp, rsp\n",
    "\n",
    "    def _train_validate(self,dls,m,metrics=accuracy,loss=F.cross_entropy,output_index=1):\n",
    "        store,model_name='tmp','.model'\n",
    "        if self.store:\n",
    "            ins_stack=inspect.stack()\n",
    "            model_name=str(ins_stack[2][3]) if str(ins_stack[2][3])!='__evaluate' else str(ins_stack[1][3])\n",
    "            store=self.store/self.ds_name/self.get_name()\n",
    "        return train_validate(dls,m,metrics=metrics,loss=loss,output_index=output_index, #Only change these\n",
    "                              epoch=self.epoch,print_output=self.print_output,patience=self.patience,\n",
    "                              min_delta=self.min_delta,show_plot=False,store_path=store,model_name=model_name,\n",
    "                              lr_find=self.lr_find)\n",
    "    def setup(self): pass\n",
    "    def get_name(self): return self.__class__.__name__.replace('PPM_',\"\")\n",
    "    def next_step_prediction(self): pass\n",
    "    def next_resource_prediction(self): pass\n",
    "    def last_resource_prediction(self): pass\n",
    "    def outcome_prediction(self): pass\n",
    "    def duration_to_next_event_prediction(self): pass\n",
    "    def duration_to_end_prediction(self): pass\n",
    "    def activity_suffix_prediction(self): pass\n",
    "    def resource_suffix_prediction(self): pass"
   ]
  },
  {
   "cell_type": "code",
   "execution_count": 25,
   "metadata": {
    "hidden": true
   },
   "outputs": [],
   "source": [
    "#export\n",
    "def get_ds_name(url): return(url.stem) # Utility function, that gets the name of a dataset"
   ]
  },
  {
   "cell_type": "code",
   "execution_count": 26,
   "metadata": {
    "hidden": true
   },
   "outputs": [],
   "source": [
    "#export\n",
    "class PPM_RNNwEmbedding(PPModel):\n",
    "    'Sampe PPM based on RNNwEmbedding'\n",
    "    model=RNNwEmbedding\n",
    "\n",
    "    def next_step_prediction(self,outcome=False,col='activity'):\n",
    "        o=PPObj(self.log,procs=Categorify(),cat_names=col,y_names=col,splits=self.splits)\n",
    "        dls=o.get_dls(outcome=outcome,bs=self.bs,windows=self.windows)\n",
    "        m=self.model(o)\n",
    "        return self._train_validate(dls,m)\n",
    "\n",
    "    def next_resource_prediction(self): return self.next_step_prediction(col='resource')\n",
    "    def last_resource_prediction(self): return self.next_step_prediction(col='resource',outcome=True)\n",
    "    def outcome_prediction(self): return self.next_step_prediction(outcome=True)"
   ]
  },
  {
   "cell_type": "code",
   "execution_count": 27,
   "metadata": {
    "hidden": true
   },
   "outputs": [],
   "source": [
    "path=EventLogs.Helpdesk\n",
    "log=import_log(path)\n",
    "ds_name=get_ds_name(path)\n",
    "splits=split_traces(log)"
   ]
  },
  {
   "cell_type": "code",
   "execution_count": 28,
   "metadata": {
    "hidden": true
   },
   "outputs": [],
   "source": [
    "ppm=PPM_RNNwEmbedding(log,ds_name,splits,epoch=1)"
   ]
  },
  {
   "cell_type": "code",
   "execution_count": 29,
   "metadata": {
    "hidden": true
   },
   "outputs": [
    {
     "data": {
      "text/plain": [
       "0.7651785612106323"
      ]
     },
     "execution_count": 29,
     "metadata": {},
     "output_type": "execute_result"
    }
   ],
   "source": [
    "ppm.next_step_prediction()"
   ]
  },
  {
   "cell_type": "markdown",
   "metadata": {},
   "source": [
    "## Pipeline Runner"
   ]
  },
  {
   "cell_type": "markdown",
   "metadata": {},
   "source": [
    "A runner function for `PPModel`. Runs multiple prediction models on various datasets for several runs. Writes the results to a dataframe and stores it on disk in the `./tmp` folder. Stores the splits, the trained models, and the results. Accepts multiple parameters."
   ]
  },
  {
   "cell_type": "code",
   "execution_count": 30,
   "metadata": {},
   "outputs": [],
   "source": [
    "#export\n",
    "from datetime import datetime\n",
    "import inspect\n",
    "from tqdm.notebook import tqdm"
   ]
  },
  {
   "cell_type": "code",
   "execution_count": 31,
   "metadata": {},
   "outputs": [],
   "source": [
    "#export\n",
    "class Performance_Statistic():\n",
    "    'Creates a results dataframe, that shows the performance of all models on all datasets on all tasks.'\n",
    "    def __init__(self):\n",
    "        self.df = pd.DataFrame(\n",
    "        columns=['Dataset', 'Model', 'Next Step', 'Next Resource', 'Last Resource', 'Outcome',\n",
    "                'Next relative Timestamp', 'Duration to Outcome', 'Activity Suffix', 'Resource Suffix'])\n",
    "    def update(self,model_performance): self.df.loc[len(self.df)] = model_performance\n",
    "    def to_df(self):\n",
    "        return self.df"
   ]
  },
  {
   "cell_type": "code",
   "execution_count": 32,
   "metadata": {},
   "outputs": [],
   "source": [
    "#export\n",
    "def _store_path(results_dir=Path('./tmp')):\n",
    "    'Creates a new folder to store results'\n",
    "    now = datetime.now()\n",
    "    current_time = now.strftime(\"%Y-%m-%d_%H:%M:%S\")\n",
    "    results_dir=results_dir/current_time\n",
    "    results_dir.mkdir()\n",
    "    return results_dir"
   ]
  },
  {
   "cell_type": "code",
   "execution_count": 33,
   "metadata": {},
   "outputs": [],
   "source": [
    "#export\n",
    "@delegates(PPModel)\n",
    "def runner(dataset_urls,ppm_classes,store=True,runs=1,sample=False,validation_seed=None,test_seed=42,tqdm=tqdm,\n",
    "           **kwargs):\n",
    "    store_path= _store_path() if store else None\n",
    "    '''\n",
    "    Runs a number of process prediction models PPModel on a number of datasets for multiple runs.\n",
    "    Stores results in ./tmp folder.\n",
    "    '''\n",
    "    i=0\n",
    "    results=[]\n",
    "    for r in tqdm(range(runs),desc='Runs'):\n",
    "        performance_statistic = Performance_Statistic()\n",
    "        db=tqdm(range(len(dataset_urls)),leave=False)\n",
    "        for i in db:\n",
    "            db.set_description(get_ds_name(dataset_urls[i]))\n",
    "            ds= dataset_urls[i]\n",
    "            log=import_log(ds)\n",
    "            ds_name=get_ds_name(ds)\n",
    "            splits=split_traces(log,ds_name,validation_seed=validation_seed,test_seed=test_seed)\n",
    "            if store:\n",
    "                with open(store_path/f'run{r}_{ds_name}_splits.pickle', \"wb\") as output_file:\n",
    "                    pickle.dump(splits, output_file)\n",
    "            mb=tqdm(range(len(ppm_classes)),leave=False)\n",
    "            for j in mb:\n",
    "                mb.set_description(ppm_classes[j].__name__.replace('PPM_',\"\"))\n",
    "                ppm_class=ppm_classes[j]\n",
    "                model_path=store_path/'models'/f\"run{r}\" if store else None\n",
    "                model=ppm_class(log,ds_name,splits,store=model_path,sample=sample,**kwargs)\n",
    "                model_performance = model.evaluate()\n",
    "                model_performance = [ds_name, model.get_name(),*model_performance]\n",
    "                performance_statistic.update(model_performance)\n",
    "                [ds_name, model.get_name(),*model_performance]\n",
    "\n",
    "        df = performance_statistic.to_df()\n",
    "        results.append(df)\n",
    "        if store: df.to_csv(store_path/f\"run_{r}_results.csv\")\n",
    "    return results if len(results)>1 else results[0]"
   ]
  },
  {
   "cell_type": "markdown",
   "metadata": {},
   "source": [
    "This sample shows how to use the runner function:"
   ]
  },
  {
   "cell_type": "code",
   "execution_count": 34,
   "metadata": {},
   "outputs": [
    {
     "data": {
      "application/vnd.jupyter.widget-view+json": {
       "model_id": "c7e4aef6841048c7ad14712de473ca2e",
       "version_major": 2,
       "version_minor": 0
      },
      "text/plain": [
       "Runs:   0%|          | 0/2 [00:00<?, ?it/s]"
      ]
     },
     "metadata": {},
     "output_type": "display_data"
    },
    {
     "data": {
      "application/vnd.jupyter.widget-view+json": {
       "model_id": "",
       "version_major": 2,
       "version_minor": 0
      },
      "text/plain": [
       "  0%|          | 0/2 [00:00<?, ?it/s]"
      ]
     },
     "metadata": {},
     "output_type": "display_data"
    },
    {
     "data": {
      "application/vnd.jupyter.widget-view+json": {
       "model_id": "",
       "version_major": 2,
       "version_minor": 0
      },
      "text/plain": [
       "  0%|          | 0/2 [00:00<?, ?it/s]"
      ]
     },
     "metadata": {},
     "output_type": "display_data"
    },
    {
     "data": {
      "application/vnd.jupyter.widget-view+json": {
       "model_id": "",
       "version_major": 2,
       "version_minor": 0
      },
      "text/plain": [
       "  0%|          | 0/2 [00:00<?, ?it/s]"
      ]
     },
     "metadata": {},
     "output_type": "display_data"
    },
    {
     "data": {
      "application/vnd.jupyter.widget-view+json": {
       "model_id": "",
       "version_major": 2,
       "version_minor": 0
      },
      "text/plain": [
       "  0%|          | 0/2 [00:00<?, ?it/s]"
      ]
     },
     "metadata": {},
     "output_type": "display_data"
    },
    {
     "data": {
      "application/vnd.jupyter.widget-view+json": {
       "model_id": "",
       "version_major": 2,
       "version_minor": 0
      },
      "text/plain": [
       "  0%|          | 0/2 [00:00<?, ?it/s]"
      ]
     },
     "metadata": {},
     "output_type": "display_data"
    },
    {
     "data": {
      "application/vnd.jupyter.widget-view+json": {
       "model_id": "",
       "version_major": 2,
       "version_minor": 0
      },
      "text/plain": [
       "  0%|          | 0/2 [00:00<?, ?it/s]"
      ]
     },
     "metadata": {},
     "output_type": "display_data"
    },
    {
     "name": "stdout",
     "output_type": "stream",
     "text": [
      "CPU times: user 4.3 s, sys: 21.4 s, total: 25.7 s\n",
      "Wall time: 26.4 s\n"
     ]
    }
   ],
   "source": [
    "%%time\n",
    "datasets=[EventLogs.Helpdesk,EventLogs.BPIC_13_CP]\n",
    "ppms=[PPM_RNNwEmbedding,PPM_RNNwEmbedding]\n",
    "res=runner(datasets,ppms,epoch=1,windows=partial(subsequences_fast,min_ws=0),store=True,print_output=False,\n",
    "           sample=True,runs=2)\n"
   ]
  }
 ],
 "metadata": {
  "kernelspec": {
   "display_name": "mppn",
   "language": "python",
   "name": "mppn"
  },
  "language_info": {
   "codemirror_mode": {
    "name": "ipython",
    "version": 3
   },
   "file_extension": ".py",
   "mimetype": "text/x-python",
   "name": "python",
   "nbconvert_exporter": "python",
   "pygments_lexer": "ipython3",
   "version": "3.7.10"
  },
  "toc": {
   "base_numbering": 1,
   "nav_menu": {},
   "number_sections": true,
   "sideBar": true,
   "skip_h1_title": true,
   "title_cell": "Table of Contents",
   "title_sidebar": "Contents",
   "toc_cell": true,
   "toc_position": {
    "height": "calc(100% - 180px)",
    "left": "10px",
    "top": "150px",
    "width": "384px"
   },
   "toc_section_display": true,
   "toc_window_display": true
  }
 },
 "nbformat": 4,
 "nbformat_minor": 4
}
