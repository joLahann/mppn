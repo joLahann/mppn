{
 "cells": [
  {
   "cell_type": "markdown",
   "metadata": {},
   "source": [
    "# MPPN\n",
    "\n",
    "> This repository contains the source code of the paper MPPN, which is currently under review for the BPM 2021."
   ]
  },
  {
   "cell_type": "markdown",
   "metadata": {},
   "source": [
    "## Installation"
   ]
  },
  {
   "cell_type": "markdown",
   "metadata": {},
   "source": [
    "The recommended way to install the scripts is:\n",
    "```\n",
    "git clone https://gitlab.com/jo.lahann/mppn\n",
    "cd mppn\n",
    "conda create --name mppn python=3.7.\n",
    "conda activate mppn\n",
    "pip install .\n",
    "```\n",
    "This way all requirements are also installed including pytorch, cuda and fastai.\n",
    "\n",
    "\n",
    "To run the jupyter notebooks you also have to create a jupyter kernel:\n",
    "\n",
    "```\n",
    "python -m ipykernel install --user --name mppn\n",
    "```"
   ]
  },
  {
   "cell_type": "markdown",
   "metadata": {},
   "source": [
    "## Content"
   ]
  },
  {
   "cell_type": "markdown",
   "metadata": {},
   "source": [
    "- `00_preprocessing.ipynb` contains all the pre-processing logic for the process prediction tasks, including normalization and categorization, subsequence generation and data loader creation.\n",
    "- `01_pipeline.ipynb` includes the pipeline and the runner method to run all prediction models and tasks.\n",
    "- `02_baselines.ipynb` includes the implementation of 4 current approaches of process prediction.  \n",
    "- `03_mppn.ipynb` presents the implementation of the MPPN that is described in the paper.\n",
    "- `04_prediction_evaluation.ipynb` runs the evaluation and logs the results.\n",
    "- The four jupyter notebooks build up and are also exported to python files that are located under `./mppn/`. \n",
    "- The experiment can also be run from command line with `python mppn/prediction_evaluation.py`\n",
    "- The event logs are stored under `./event_logs/`\n",
    "- The results are stored under `./results/`\n",
    "\n",
    "\n"
   ]
  },
  {
   "cell_type": "markdown",
   "metadata": {},
   "source": [
    "The repository is build with the nbdev package -> https://nbdev.fast.ai/"
   ]
  }
 ],
 "metadata": {
  "kernelspec": {
   "display_name": "Python 3",
   "language": "python",
   "name": "python3"
  }
 },
 "nbformat": 4,
 "nbformat_minor": 2
}
